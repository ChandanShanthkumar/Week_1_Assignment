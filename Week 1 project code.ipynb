{
 "cells": [
  {
   "cell_type": "markdown",
   "id": "88d96bb1",
   "metadata": {},
   "source": [
    "# Waste Management using CNN Model"
   ]
  },
  {
   "cell_type": "code",
   "execution_count": null,
   "id": "8eace259",
   "metadata": {},
   "outputs": [],
   "source": [
    "# importing the required libraries\n",
    "import numpy as np\n",
    "import pandas as pd\n",
    "import matplotlib.pyplot as plt\n",
    "import cv2\n",
    "from tqdm import tqdm\n",
    "import warnings\n",
    "warnings.filterwarnings('ignore')"
   ]
  },
  {
   "cell_type": "code",
   "execution_count": null,
   "id": "171a03f0",
   "metadata": {},
   "outputs": [],
   "source": [
    "# libraries related to tensor flow\n",
    "from tensorflow.keras.models import Sequential\n",
    "from tensorflow.keras.layers import Conv2D, MaxPooling2D, Activation, Dropout, flatten, Dense, BatchNormalization\n",
    "from tensorflow.keras.preprocessing.image import ImageDataGenerator, img_to_array, load_img\n",
    "from tensorflow.keras.utils import plot_model\n",
    "from glob import glob"
   ]
  },
  {
   "cell_type": "code",
   "execution_count": 16,
   "id": "856313a3",
   "metadata": {},
   "outputs": [],
   "source": [
    "# paths for the data\n",
    "train_path = \"DATASET/TRAIN\"\n",
    "test_path = \"DATASET/TEST\""
   ]
  },
  {
   "cell_type": "code",
   "execution_count": null,
   "id": "174f8d17",
   "metadata": {},
   "outputs": [],
   "source": [
    "#visualization\n",
    "from cv2 import COLOR_BGR2RGB, cvtColor\n",
    "import glob\n",
    "import tqdm\n",
    "x_data = []\n",
    "y_data = []\n",
    "for category in glob.glob(train_path +'/*'):\n",
    "    for file in tqdm(glob.glob(category+'/*')):\n",
    "        img_array = cv2.imread(file)\n",
    "        img_array = cv2.cvtColor(img_array, COLOR_BGR2RGB)\n",
    "        x_data.append(img_array)\n",
    "        y_data.append(category.split('/')[-1])\n",
    "data = pd.DataFrame({'image':x_data, 'label' : y_data})\n",
    "print(data)"
   ]
  }
 ],
 "metadata": {
  "kernelspec": {
   "display_name": "base",
   "language": "python",
   "name": "python3"
  },
  "language_info": {
   "codemirror_mode": {
    "name": "ipython",
    "version": 3
   },
   "file_extension": ".py",
   "mimetype": "text/x-python",
   "name": "python",
   "nbconvert_exporter": "python",
   "pygments_lexer": "ipython3",
   "version": "3.11.5"
  }
 },
 "nbformat": 4,
 "nbformat_minor": 5
}
